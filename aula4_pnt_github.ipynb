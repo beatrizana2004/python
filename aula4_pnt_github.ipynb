{
  "nbformat": 4,
  "nbformat_minor": 0,
  "metadata": {
    "colab": {
      "provenance": [],
      "include_colab_link": true
    },
    "kernelspec": {
      "name": "python3",
      "display_name": "Python 3"
    },
    "language_info": {
      "name": "python"
    }
  },
  "cells": [
    {
      "cell_type": "markdown",
      "metadata": {
        "id": "view-in-github",
        "colab_type": "text"
      },
      "source": [
        "<a href=\"https://colab.research.google.com/github/beatrizana2004/python/blob/main/aula4_pnt_github.ipynb\" target=\"_parent\"><img src=\"https://colab.research.google.com/assets/colab-badge.svg\" alt=\"Open In Colab\"/></a>"
      ]
    },
    {
      "cell_type": "code",
      "execution_count": 10,
      "metadata": {
        "colab": {
          "base_uri": "https://localhost:8080/"
        },
        "id": "AEJTgXByiSRb",
        "outputId": "7734bcb0-27a6-48f6-d771-912e797b4410"
      },
      "outputs": [
        {
          "output_type": "execute_result",
          "data": {
            "text/plain": [
              "False"
            ]
          },
          "metadata": {},
          "execution_count": 10
        }
      ],
      "source": [
        "# ETE CÍCERO DIAS\n",
        "# DOCENTE: CLOVES\n",
        "# ESTUDANTE: ANA BEATRIZ\n",
        "#10-1\n",
        "#10*9\n",
        "#10/3\n",
        "#10//3\n",
        "#2**3\n",
        "#13%3\n",
        "#c=2//3\n",
        "#print(c)\n",
        "\n",
        "notaA = 10\n",
        "notaB = 9\n",
        "notaA == notaB\n",
        "\n"
      ]
    },
    {
      "cell_type": "code",
      "source": [
        "#na = 8\n",
        "#nb = 7\n",
        "#nc = 9\n",
        "#nd = 10\n",
        "\n",
        "a= 7\n",
        "b= 10\n",
        "a!= b\n",
        "\n",
        "\n",
        "\n",
        "\n"
      ],
      "metadata": {
        "colab": {
          "base_uri": "https://localhost:8080/"
        },
        "id": "_pUw3jFc8egF",
        "outputId": "05a5cf82-7c85-47b3-be4b-5277ce0bfe3c"
      },
      "execution_count": 15,
      "outputs": [
        {
          "output_type": "execute_result",
          "data": {
            "text/plain": [
              "True"
            ]
          },
          "metadata": {},
          "execution_count": 15
        }
      ]
    },
    {
      "cell_type": "code",
      "source": [
        "nome = input('Digite seu noome:')\n",
        "print(f'Seu nome é {nome}.')\n"
      ],
      "metadata": {
        "colab": {
          "base_uri": "https://localhost:8080/"
        },
        "id": "V9_XmC-69TuO",
        "outputId": "b589606e-3eb5-42a7-d690-4e83d167830a"
      },
      "execution_count": 16,
      "outputs": [
        {
          "output_type": "stream",
          "name": "stdout",
          "text": [
            "Digite seu noome:bia\n",
            "Seu nome é bia.\n"
          ]
        }
      ]
    },
    {
      "cell_type": "code",
      "source": [
        "idade= int(input('Digite sua idade: '))\n",
        "print(f'Você tem {idade} anos.')\n"
      ],
      "metadata": {
        "colab": {
          "base_uri": "https://localhost:8080/"
        },
        "id": "lac5tp7M9xQv",
        "outputId": "0e18a990-7166-44dc-8882-448b2269f387"
      },
      "execution_count": 17,
      "outputs": [
        {
          "output_type": "stream",
          "name": "stdout",
          "text": [
            "Digite sua idade: 19\n",
            "Você tem 19 anos.\n"
          ]
        }
      ]
    }
  ]
}