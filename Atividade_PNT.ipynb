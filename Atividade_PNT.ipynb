{
  "nbformat": 4,
  "nbformat_minor": 0,
  "metadata": {
    "colab": {
      "provenance": [],
      "include_colab_link": true
    },
    "kernelspec": {
      "name": "python3",
      "display_name": "Python 3"
    },
    "language_info": {
      "name": "python"
    }
  },
  "cells": [
    {
      "cell_type": "markdown",
      "metadata": {
        "id": "view-in-github",
        "colab_type": "text"
      },
      "source": [
        "<a href=\"https://colab.research.google.com/github/beatrizana2004/python/blob/main/Atividade_PNT.ipynb\" target=\"_parent\"><img src=\"https://colab.research.google.com/assets/colab-badge.svg\" alt=\"Open In Colab\"/></a>"
      ]
    },
    {
      "cell_type": "code",
      "execution_count": null,
      "metadata": {
        "colab": {
          "base_uri": "https://localhost:8080/"
        },
        "id": "So2_ckCg4fcD",
        "outputId": "42229c11-3f25-4a67-e28b-c1d130ade4b1"
      },
      "outputs": [
        {
          "output_type": "stream",
          "name": "stdout",
          "text": [
            "Olá ETE CÍCERO DIAS!\n"
          ]
        }
      ],
      "source": [
        "print(\"Olá ETE CÍCERO DIAS!\")"
      ]
    },
    {
      "cell_type": "code",
      "source": [
        "numero = input(\"Digite um número: \")\n",
        "print(\"O número informado foi\", numero)"
      ],
      "metadata": {
        "colab": {
          "base_uri": "https://localhost:8080/"
        },
        "id": "CYBpnuTs5zKN",
        "outputId": "f537552d-5221-4625-8640-aa74837af1c6"
      },
      "execution_count": null,
      "outputs": [
        {
          "output_type": "stream",
          "name": "stdout",
          "text": [
            "Digite um número: 10\n",
            "O número informado foi 10\n"
          ]
        }
      ]
    },
    {
      "cell_type": "code",
      "source": [
        "numero1 = float(input(\"Digite o primeiro número: \"))\n",
        "numero2 = float(input(\"Digite o segundo número: \"))\n",
        ",\n",
        "print(\"A soma dos números é:\", numero1 + numero2)"
      ],
      "metadata": {
        "colab": {
          "base_uri": "https://localhost:8080/"
        },
        "id": "WppGDarU6bTx",
        "outputId": "29dc0d5b-2fd1-4055-ea14-2ca50d7ef1b3"
      },
      "execution_count": null,
      "outputs": [
        {
          "output_type": "stream",
          "name": "stdout",
          "text": [
            "Digite o primeiro número: 5\n",
            "Digite o segundo número: 9\n",
            "A soma dos números é: 14.0\n"
          ]
        }
      ]
    },
    {
      "cell_type": "code",
      "source": [
        "nota1 = float(input(\"Digite a nota do 1º bimestre: \"))\n",
        "nota2 = float(input(\"Digite a nota do 2º bimestre: \"))\n",
        "nota3 = float(input(\"Digite a nota do 3º bimestre: \"))\n",
        "nota4 = float(input(\"Digite a nota do 4º bimestre: \"))\n",
        "\n",
        "media_final = (nota1 + nota2 + nota3 + nota4) / 4\n",
        "\n",
        "print(\"A média final é:\", media_final)\n",
        "\n"
      ],
      "metadata": {
        "colab": {
          "base_uri": "https://localhost:8080/"
        },
        "id": "UO7QtW0omnWu",
        "outputId": "cb8907f6-e830-4ae5-9e7e-01ab6c27253f"
      },
      "execution_count": 2,
      "outputs": [
        {
          "output_type": "stream",
          "name": "stdout",
          "text": [
            "Digite a nota do 1º bimestre: 9\n",
            "Digite a nota do 2º bimestre: 5\n",
            "Digite a nota do 3º bimestre: 7\n",
            "Digite a nota do 4º bimestre: 6\n",
            "A média final é: 6.75\n"
          ]
        }
      ]
    },
    {
      "cell_type": "code",
      "source": [
        "metros = float(input(\"Digite a quantidade de metros: \"))\n",
        "\n",
        "centimetros = metros * 100\n",
        "\n",
        "print(f\"{metros} metros equivalem a {centimetros} centímetros.\")\n"
      ],
      "metadata": {
        "colab": {
          "base_uri": "https://localhost:8080/"
        },
        "id": "gEyNqC8jnINH",
        "outputId": "f91605a1-e6c6-490c-9531-5d6557cda2c9"
      },
      "execution_count": 3,
      "outputs": [
        {
          "output_type": "stream",
          "name": "stdout",
          "text": [
            "Digite a quantidade de metros: 100\n",
            "100.0 metros equivalem a 10000.0 centímetros.\n"
          ]
        }
      ]
    },
    {
      "cell_type": "code",
      "source": [
        "r = float(input('O raio do circulo é: '))\n",
        "a = r **2\n",
        "print(f'A aerea do circulo é: {a} ')"
      ],
      "metadata": {
        "id": "v3JtDUWZ6SVa",
        "outputId": "39cc2ddc-aedf-431a-dda9-36db6658c9bd",
        "colab": {
          "base_uri": "https://localhost:8080/"
        }
      },
      "execution_count": 4,
      "outputs": [
        {
          "output_type": "stream",
          "name": "stdout",
          "text": [
            "O raio do circulo é: 4\n",
            "A aerea do circulo é: 16.0 \n"
          ]
        }
      ]
    }
  ]
}